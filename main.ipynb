{
 "cells": [
  {
   "cell_type": "code",
   "execution_count": 1,
   "metadata": {},
   "outputs": [],
   "source": [
    "import pandas as pd\n",
    "import streamlit as st\n",
    "from collections import Counter\n",
    "from PIL import Image"
   ]
  },
  {
   "cell_type": "code",
   "execution_count": 2,
   "metadata": {},
   "outputs": [],
   "source": [
    "im = Image.open(\"./logo_ugry.png\")\n",
    "st.set_page_config(page_title=\"Отклики на задачи\", page_icon=im)"
   ]
  },
  {
   "cell_type": "code",
   "execution_count": 3,
   "metadata": {},
   "outputs": [
    {
     "name": "stderr",
     "output_type": "stream",
     "text": [
      "2022-04-25 17:43:45.960 \n",
      "  \u001b[33m\u001b[1mWarning:\u001b[0m to view this Streamlit app on a browser, run it with the following\n",
      "  command:\n",
      "\n",
      "    streamlit run /Users/arturfattahov/Library/Python/3.10/lib/python/site-packages/ipykernel_launcher.py [ARGUMENTS]\n"
     ]
    },
    {
     "ename": "StopException",
     "evalue": "",
     "output_type": "error",
     "traceback": [
      "\u001b[0;31m---------------------------------------------------------------------------\u001b[0m",
      "\u001b[0;31mStopException\u001b[0m                             Traceback (most recent call last)",
      "\u001b[1;32m/Users/arturfattahov/tasks_and_responses/main.ipynb Cell 3'\u001b[0m in \u001b[0;36m<module>\u001b[0;34m\u001b[0m\n\u001b[1;32m     <a href='vscode-notebook-cell:/Users/arturfattahov/tasks_and_responses/main.ipynb#ch0000002?line=31'>32</a>\u001b[0m \u001b[39melse\u001b[39;00m:\n\u001b[1;32m     <a href='vscode-notebook-cell:/Users/arturfattahov/tasks_and_responses/main.ipynb#ch0000002?line=32'>33</a>\u001b[0m     st\u001b[39m.\u001b[39minfo(\n\u001b[1;32m     <a href='vscode-notebook-cell:/Users/arturfattahov/tasks_and_responses/main.ipynb#ch0000002?line=33'>34</a>\u001b[0m         \u001b[39mf\u001b[39m\u001b[39m\"\"\"\u001b[39m\n\u001b[1;32m     <a href='vscode-notebook-cell:/Users/arturfattahov/tasks_and_responses/main.ipynb#ch0000002?line=34'>35</a>\u001b[0m \u001b[39m             👆 Загрузите файл с расширением csv. В файле должны стого содержаться следующие столбцы:\u001b[39m\n\u001b[0;32m   (...)\u001b[0m\n\u001b[1;32m     <a href='vscode-notebook-cell:/Users/arturfattahov/tasks_and_responses/main.ipynb#ch0000002?line=45'>46</a>\u001b[0m \u001b[39m             \u001b[39m\u001b[39m\"\"\"\u001b[39m\n\u001b[1;32m     <a href='vscode-notebook-cell:/Users/arturfattahov/tasks_and_responses/main.ipynb#ch0000002?line=46'>47</a>\u001b[0m     )\n\u001b[0;32m---> <a href='vscode-notebook-cell:/Users/arturfattahov/tasks_and_responses/main.ipynb#ch0000002?line=47'>48</a>\u001b[0m     st\u001b[39m.\u001b[39;49mstop()\n",
      "File \u001b[0;32m/Library/Frameworks/Python.framework/Versions/3.10/lib/python3.10/site-packages/streamlit/__init__.py:492\u001b[0m, in \u001b[0;36mstop\u001b[0;34m()\u001b[0m\n\u001b[1;32m    <a href='file:///Library/Frameworks/Python.framework/Versions/3.10/lib/python3.10/site-packages/streamlit/__init__.py?line=474'>475</a>\u001b[0m \u001b[39mdef\u001b[39;00m \u001b[39mstop\u001b[39m() \u001b[39m-\u001b[39m\u001b[39m>\u001b[39m NoReturn:\n\u001b[1;32m    <a href='file:///Library/Frameworks/Python.framework/Versions/3.10/lib/python3.10/site-packages/streamlit/__init__.py?line=475'>476</a>\u001b[0m     \u001b[39m\"\"\"Stops execution immediately.\u001b[39;00m\n\u001b[1;32m    <a href='file:///Library/Frameworks/Python.framework/Versions/3.10/lib/python3.10/site-packages/streamlit/__init__.py?line=476'>477</a>\u001b[0m \n\u001b[1;32m    <a href='file:///Library/Frameworks/Python.framework/Versions/3.10/lib/python3.10/site-packages/streamlit/__init__.py?line=477'>478</a>\u001b[0m \u001b[39m    Streamlit will not run any statements after `st.stop()`.\u001b[39;00m\n\u001b[0;32m   (...)\u001b[0m\n\u001b[1;32m    <a href='file:///Library/Frameworks/Python.framework/Versions/3.10/lib/python3.10/site-packages/streamlit/__init__.py?line=489'>490</a>\u001b[0m \n\u001b[1;32m    <a href='file:///Library/Frameworks/Python.framework/Versions/3.10/lib/python3.10/site-packages/streamlit/__init__.py?line=490'>491</a>\u001b[0m \u001b[39m    \"\"\"\u001b[39;00m\n\u001b[0;32m--> <a href='file:///Library/Frameworks/Python.framework/Versions/3.10/lib/python3.10/site-packages/streamlit/__init__.py?line=491'>492</a>\u001b[0m     \u001b[39mraise\u001b[39;00m StopException()\n",
      "\u001b[0;31mStopException\u001b[0m: "
     ]
    }
   ],
   "source": [
    "st.title(\"Отклики на задачи\")\n",
    "st.write(\"Количество задач, количество откликов на задачу\")\n",
    "uploaded_file = st.file_uploader(\"Выбирете файл\")\n",
    "\n",
    "# отображение чекбокса\n",
    "use_example_file = st.checkbox(\n",
    "    \"Использовать пример выгрузки\", False, help=\"Будет использована старая выгрузка\"\n",
    ")\n",
    "\n",
    "# обработка чекбокса\n",
    "if use_example_file:\n",
    "    uploaded_file = \"match_september_february.csv\"\n",
    "\n",
    "# загрузка файла\n",
    "if uploaded_file is not None:\n",
    "     df = pd.read_csv(uploaded_file, sep='|')\n",
    "     df.columns = [\n",
    "        'task_id',\n",
    "        'task_name',\n",
    "        'status',\n",
    "        'communication_method',\n",
    "        'date_creation',\n",
    "        'customer_phone',\n",
    "        'platform',\n",
    "        'number_responses',\n",
    "        'number_matches',\n",
    "        'number_prematches'\n",
    "     ]\n",
    "\n",
    "     # изменение типов\n",
    "     df_platform_admins = df[df['platform'] == 'admins']\n",
    "     df_platform_ios = df[df['platform'] == 'ios']\n",
    "     df_platform_android = df[df['platform'] == 'android']\n",
    "\n",
    "     # удаление пропусков, которые появляются из за особенностей выгрузки\n",
    "     df = df.dropna()\n",
    "     # отображение выгрузки\n",
    "     st.markdown(\"### Обзор выгрузки\")\n",
    "     st.dataframe(df.head())\n",
    "\n",
    "\n",
    "# остановка выполнения\n",
    "if not uploaded_file or not use_example_file:\n",
    "        st.stop()\n",
    "\n",
    "\n",
    "st.info(\n",
    "   f\"\"\"\n",
    "        👆 Загрузите файл с расширением csv. В файле должны стого содержаться следующие столбцы:\n",
    "        - id задачи\n",
    "        - Название\tзадачи\n",
    "        - Статус\n",
    "        - Способ связи\n",
    "        - Дата создания\n",
    "        - Телефон заказчика\n",
    "        - Платформа\n",
    "        - Кол-во откликов\n",
    "        - Кол-во матчей\n",
    "        - Кол-во прематчей\n",
    "        \"\"\"\n",
    ")"
   ]
  },
  {
   "cell_type": "code",
   "execution_count": 4,
   "metadata": {},
   "outputs": [],
   "source": [
    "st.write(\"# Количество задач, у которых есть хотя бы один отклик, процент таких задач\")"
   ]
  },
  {
   "cell_type": "code",
   "execution_count": 8,
   "metadata": {},
   "outputs": [],
   "source": [
    "st.write(\"## Admins\")"
   ]
  },
  {
   "cell_type": "code",
   "execution_count": 7,
   "metadata": {},
   "outputs": [
    {
     "ename": "NameError",
     "evalue": "name 'df_platform_admins' is not defined",
     "output_type": "error",
     "traceback": [
      "\u001b[0;31m---------------------------------------------------------------------------\u001b[0m",
      "\u001b[0;31mNameError\u001b[0m                                 Traceback (most recent call last)",
      "\u001b[1;32m/Users/arturfattahov/tasks_and_responses/main.ipynb Cell 5'\u001b[0m in \u001b[0;36m<module>\u001b[0;34m\u001b[0m\n\u001b[0;32m----> <a href='vscode-notebook-cell:/Users/arturfattahov/tasks_and_responses/main.ipynb#ch0000004?line=0'>1</a>\u001b[0m one_response_admins \u001b[39m=\u001b[39m df_platform_admins[df_platform_admins[\u001b[39m'\u001b[39m\u001b[39mnumber_responses\u001b[39m\u001b[39m'\u001b[39m] \u001b[39m>\u001b[39m\u001b[39m=\u001b[39m \u001b[39m1\u001b[39m]\u001b[39m.\u001b[39mcount()[\u001b[39m0\u001b[39m]\n\u001b[1;32m      <a href='vscode-notebook-cell:/Users/arturfattahov/tasks_and_responses/main.ipynb#ch0000004?line=1'>2</a>\u001b[0m st\u001b[39m.\u001b[39mwrite(\u001b[39m'\u001b[39m\u001b[39mКоличество задач, у который есть хотя бы один отклик:\u001b[39m\u001b[39m'\u001b[39m, one_response_admins)\n",
      "\u001b[0;31mNameError\u001b[0m: name 'df_platform_admins' is not defined"
     ]
    }
   ],
   "source": [
    "one_response_admins = df_platform_admins[df_platform_admins['number_responses'] >= 1].count()[0]\n",
    "st.write('Количество задач, у который есть хотя бы один отклик:', one_response_admins)"
   ]
  },
  {
   "cell_type": "code",
   "execution_count": 10,
   "metadata": {},
   "outputs": [
    {
     "ename": "NameError",
     "evalue": "name 'df_platform_admins' is not defined",
     "output_type": "error",
     "traceback": [
      "\u001b[0;31m---------------------------------------------------------------------------\u001b[0m",
      "\u001b[0;31mNameError\u001b[0m                                 Traceback (most recent call last)",
      "\u001b[1;32m/Users/arturfattahov/tasks_and_responses/main.ipynb Cell 7'\u001b[0m in \u001b[0;36m<module>\u001b[0;34m\u001b[0m\n\u001b[0;32m----> <a href='vscode-notebook-cell:/Users/arturfattahov/tasks_and_responses/main.ipynb#ch0000008?line=0'>1</a>\u001b[0m total_number_tasks_admins \u001b[39m=\u001b[39m df_platform_admins[\u001b[39m'\u001b[39m\u001b[39mtask_id\u001b[39m\u001b[39m'\u001b[39m]\u001b[39m.\u001b[39mnunique()\n\u001b[1;32m      <a href='vscode-notebook-cell:/Users/arturfattahov/tasks_and_responses/main.ipynb#ch0000008?line=1'>2</a>\u001b[0m st\u001b[39m.\u001b[39mwrite(\u001b[39m'\u001b[39m\u001b[39mОбщее количетсво задач:\u001b[39m\u001b[39m'\u001b[39m, total_number_tasks_admins)\n",
      "\u001b[0;31mNameError\u001b[0m: name 'df_platform_admins' is not defined"
     ]
    }
   ],
   "source": [
    "total_number_tasks_admins = df_platform_admins['task_id'].nunique()\n",
    "st.write('Общее количетсво задач:', total_number_tasks_admins)"
   ]
  },
  {
   "cell_type": "code",
   "execution_count": 11,
   "metadata": {},
   "outputs": [
    {
     "ename": "NameError",
     "evalue": "name 'one_response_admins' is not defined",
     "output_type": "error",
     "traceback": [
      "\u001b[0;31m---------------------------------------------------------------------------\u001b[0m",
      "\u001b[0;31mNameError\u001b[0m                                 Traceback (most recent call last)",
      "\u001b[1;32m/Users/arturfattahov/tasks_and_responses/main.ipynb Cell 8'\u001b[0m in \u001b[0;36m<module>\u001b[0;34m\u001b[0m\n\u001b[1;32m      <a href='vscode-notebook-cell:/Users/arturfattahov/tasks_and_responses/main.ipynb#ch0000009?line=0'>1</a>\u001b[0m st\u001b[39m.\u001b[39mwrite(\u001b[39m'\u001b[39m\u001b[39mПроцент задач, у которых есть хотя бы один отклик = \u001b[39m\u001b[39m{:.0f}\u001b[39;00m\u001b[39m%\u001b[39m\u001b[39m'\u001b[39m\n\u001b[0;32m----> <a href='vscode-notebook-cell:/Users/arturfattahov/tasks_and_responses/main.ipynb#ch0000009?line=1'>2</a>\u001b[0m       \u001b[39m.\u001b[39mformat(one_response_admins \u001b[39m*\u001b[39m \u001b[39m100\u001b[39m \u001b[39m/\u001b[39m total_number_tasks_admins))\n",
      "\u001b[0;31mNameError\u001b[0m: name 'one_response_admins' is not defined"
     ]
    }
   ],
   "source": [
    "st.write('Процент задач, у которых есть хотя бы один отклик = {:.0f}%'\n",
    "      .format(one_response_admins * 100 / total_number_tasks_admins))"
   ]
  },
  {
   "cell_type": "code",
   "execution_count": 9,
   "metadata": {},
   "outputs": [],
   "source": [
    "st.write(\"## iOS\")"
   ]
  },
  {
   "cell_type": "code",
   "execution_count": 12,
   "metadata": {},
   "outputs": [
    {
     "ename": "NameError",
     "evalue": "name 'df_platform_ios' is not defined",
     "output_type": "error",
     "traceback": [
      "\u001b[0;31m---------------------------------------------------------------------------\u001b[0m",
      "\u001b[0;31mNameError\u001b[0m                                 Traceback (most recent call last)",
      "\u001b[1;32m/Users/arturfattahov/tasks_and_responses/main.ipynb Cell 10'\u001b[0m in \u001b[0;36m<module>\u001b[0;34m\u001b[0m\n\u001b[0;32m----> <a href='vscode-notebook-cell:/Users/arturfattahov/tasks_and_responses/main.ipynb#ch0000007?line=0'>1</a>\u001b[0m one_response_ios \u001b[39m=\u001b[39m df_platform_ios[df_platform_ios[\u001b[39m'\u001b[39m\u001b[39mnumber_responses\u001b[39m\u001b[39m'\u001b[39m] \u001b[39m>\u001b[39m\u001b[39m=\u001b[39m \u001b[39m1\u001b[39m]\u001b[39m.\u001b[39mcount()[\u001b[39m0\u001b[39m]\n\u001b[1;32m      <a href='vscode-notebook-cell:/Users/arturfattahov/tasks_and_responses/main.ipynb#ch0000007?line=1'>2</a>\u001b[0m st\u001b[39m.\u001b[39mwrite(\u001b[39m'\u001b[39m\u001b[39mКоличество задач, у который есть хотя бы один отклик:\u001b[39m\u001b[39m'\u001b[39m, one_response_ios)\n",
      "\u001b[0;31mNameError\u001b[0m: name 'df_platform_ios' is not defined"
     ]
    }
   ],
   "source": [
    "one_response_ios = df_platform_ios[df_platform_ios['number_responses'] >= 1].count()[0]\n",
    "st.write('Количество задач, у который есть хотя бы один отклик:', one_response_ios)"
   ]
  },
  {
   "cell_type": "code",
   "execution_count": 13,
   "metadata": {},
   "outputs": [
    {
     "ename": "NameError",
     "evalue": "name 'df_platform_ios' is not defined",
     "output_type": "error",
     "traceback": [
      "\u001b[0;31m---------------------------------------------------------------------------\u001b[0m",
      "\u001b[0;31mNameError\u001b[0m                                 Traceback (most recent call last)",
      "\u001b[1;32m/Users/arturfattahov/tasks_and_responses/main.ipynb Cell 11'\u001b[0m in \u001b[0;36m<module>\u001b[0;34m\u001b[0m\n\u001b[0;32m----> <a href='vscode-notebook-cell:/Users/arturfattahov/tasks_and_responses/main.ipynb#ch0000010?line=0'>1</a>\u001b[0m total_number_tasks_ios \u001b[39m=\u001b[39m df_platform_ios[\u001b[39m'\u001b[39m\u001b[39mtask_id\u001b[39m\u001b[39m'\u001b[39m]\u001b[39m.\u001b[39mnunique()\n\u001b[1;32m      <a href='vscode-notebook-cell:/Users/arturfattahov/tasks_and_responses/main.ipynb#ch0000010?line=1'>2</a>\u001b[0m st\u001b[39m.\u001b[39mwrite(\u001b[39m'\u001b[39m\u001b[39mОбщее количетсво задач:\u001b[39m\u001b[39m'\u001b[39m, total_number_tasks_ios)\n",
      "\u001b[0;31mNameError\u001b[0m: name 'df_platform_ios' is not defined"
     ]
    }
   ],
   "source": [
    "total_number_tasks_ios = df_platform_ios['task_id'].nunique()\n",
    "st.write('Общее количетсво задач:', total_number_tasks_ios)"
   ]
  },
  {
   "cell_type": "code",
   "execution_count": 14,
   "metadata": {},
   "outputs": [
    {
     "ename": "NameError",
     "evalue": "name 'one_response_ios' is not defined",
     "output_type": "error",
     "traceback": [
      "\u001b[0;31m---------------------------------------------------------------------------\u001b[0m",
      "\u001b[0;31mNameError\u001b[0m                                 Traceback (most recent call last)",
      "\u001b[1;32m/Users/arturfattahov/tasks_and_responses/main.ipynb Cell 12'\u001b[0m in \u001b[0;36m<module>\u001b[0;34m\u001b[0m\n\u001b[1;32m      <a href='vscode-notebook-cell:/Users/arturfattahov/tasks_and_responses/main.ipynb#ch0000011?line=0'>1</a>\u001b[0m st\u001b[39m.\u001b[39mwrite(\u001b[39m'\u001b[39m\u001b[39mПроцент задач, у которых есть хотя бы один отклик = \u001b[39m\u001b[39m{:.0f}\u001b[39;00m\u001b[39m%\u001b[39m\u001b[39m'\u001b[39m\n\u001b[0;32m----> <a href='vscode-notebook-cell:/Users/arturfattahov/tasks_and_responses/main.ipynb#ch0000011?line=1'>2</a>\u001b[0m       \u001b[39m.\u001b[39mformat(one_response_ios \u001b[39m*\u001b[39m \u001b[39m100\u001b[39m \u001b[39m/\u001b[39m total_number_tasks_ios))\n",
      "\u001b[0;31mNameError\u001b[0m: name 'one_response_ios' is not defined"
     ]
    }
   ],
   "source": [
    "st.write('Процент задач, у которых есть хотя бы один отклик = {:.0f}%'\n",
    "      .format(one_response_ios * 100 / total_number_tasks_ios))"
   ]
  },
  {
   "cell_type": "code",
   "execution_count": 15,
   "metadata": {},
   "outputs": [],
   "source": [
    "st.write(\"## Android\")"
   ]
  },
  {
   "cell_type": "code",
   "execution_count": 16,
   "metadata": {},
   "outputs": [
    {
     "ename": "NameError",
     "evalue": "name 'df_platform_android' is not defined",
     "output_type": "error",
     "traceback": [
      "\u001b[0;31m---------------------------------------------------------------------------\u001b[0m",
      "\u001b[0;31mNameError\u001b[0m                                 Traceback (most recent call last)",
      "\u001b[1;32m/Users/arturfattahov/tasks_and_responses/main.ipynb Cell 14'\u001b[0m in \u001b[0;36m<module>\u001b[0;34m\u001b[0m\n\u001b[0;32m----> <a href='vscode-notebook-cell:/Users/arturfattahov/tasks_and_responses/main.ipynb#ch0000013?line=0'>1</a>\u001b[0m one_response_android \u001b[39m=\u001b[39m df_platform_android[df_platform_android[\u001b[39m'\u001b[39m\u001b[39mnumber_responses\u001b[39m\u001b[39m'\u001b[39m] \u001b[39m>\u001b[39m\u001b[39m=\u001b[39m \u001b[39m1\u001b[39m]\u001b[39m.\u001b[39mcount()[\u001b[39m0\u001b[39m]\n\u001b[1;32m      <a href='vscode-notebook-cell:/Users/arturfattahov/tasks_and_responses/main.ipynb#ch0000013?line=1'>2</a>\u001b[0m st\u001b[39m.\u001b[39mwrite(\u001b[39m'\u001b[39m\u001b[39mКоличество задач, у который есть хотя бы один отклик:\u001b[39m\u001b[39m'\u001b[39m, one_response_android)\n",
      "\u001b[0;31mNameError\u001b[0m: name 'df_platform_android' is not defined"
     ]
    }
   ],
   "source": [
    "one_response_android = df_platform_android[df_platform_android['number_responses'] >= 1].count()[0]\n",
    "st.write('Количество задач, у который есть хотя бы один отклик:', one_response_android)"
   ]
  },
  {
   "cell_type": "code",
   "execution_count": 17,
   "metadata": {},
   "outputs": [
    {
     "ename": "NameError",
     "evalue": "name 'df_platform_android' is not defined",
     "output_type": "error",
     "traceback": [
      "\u001b[0;31m---------------------------------------------------------------------------\u001b[0m",
      "\u001b[0;31mNameError\u001b[0m                                 Traceback (most recent call last)",
      "\u001b[1;32m/Users/arturfattahov/tasks_and_responses/main.ipynb Cell 15'\u001b[0m in \u001b[0;36m<module>\u001b[0;34m\u001b[0m\n\u001b[0;32m----> <a href='vscode-notebook-cell:/Users/arturfattahov/tasks_and_responses/main.ipynb#ch0000014?line=0'>1</a>\u001b[0m total_number_tasks_android \u001b[39m=\u001b[39m df_platform_android[\u001b[39m'\u001b[39m\u001b[39mtask_id\u001b[39m\u001b[39m'\u001b[39m]\u001b[39m.\u001b[39mnunique()\n\u001b[1;32m      <a href='vscode-notebook-cell:/Users/arturfattahov/tasks_and_responses/main.ipynb#ch0000014?line=1'>2</a>\u001b[0m st\u001b[39m.\u001b[39mwrite(\u001b[39m'\u001b[39m\u001b[39mОбщее количетсво задач:\u001b[39m\u001b[39m'\u001b[39m, total_number_tasks_android)\n",
      "\u001b[0;31mNameError\u001b[0m: name 'df_platform_android' is not defined"
     ]
    }
   ],
   "source": [
    "total_number_tasks_android = df_platform_android['task_id'].nunique()\n",
    "st.write('Общее количетсво задач:', total_number_tasks_android)"
   ]
  },
  {
   "cell_type": "code",
   "execution_count": 18,
   "metadata": {},
   "outputs": [
    {
     "ename": "NameError",
     "evalue": "name 'one_response_android' is not defined",
     "output_type": "error",
     "traceback": [
      "\u001b[0;31m---------------------------------------------------------------------------\u001b[0m",
      "\u001b[0;31mNameError\u001b[0m                                 Traceback (most recent call last)",
      "\u001b[1;32m/Users/arturfattahov/tasks_and_responses/main.ipynb Cell 16'\u001b[0m in \u001b[0;36m<module>\u001b[0;34m\u001b[0m\n\u001b[1;32m      <a href='vscode-notebook-cell:/Users/arturfattahov/tasks_and_responses/main.ipynb#ch0000015?line=0'>1</a>\u001b[0m st\u001b[39m.\u001b[39mwrite(\u001b[39m'\u001b[39m\u001b[39mПроцент задач, у которых есть хотя бы один отклик = \u001b[39m\u001b[39m{:.0f}\u001b[39;00m\u001b[39m%\u001b[39m\u001b[39m'\u001b[39m\n\u001b[0;32m----> <a href='vscode-notebook-cell:/Users/arturfattahov/tasks_and_responses/main.ipynb#ch0000015?line=1'>2</a>\u001b[0m       \u001b[39m.\u001b[39mformat(one_response_android \u001b[39m*\u001b[39m \u001b[39m100\u001b[39m \u001b[39m/\u001b[39m total_number_tasks_android))\n",
      "\u001b[0;31mNameError\u001b[0m: name 'one_response_android' is not defined"
     ]
    }
   ],
   "source": [
    "st.write('Процент задач, у которых есть хотя бы один отклик = {:.0f}%'\n",
    "      .format(one_response_android * 100 / total_number_tasks_android))"
   ]
  },
  {
   "cell_type": "code",
   "execution_count": 19,
   "metadata": {},
   "outputs": [],
   "source": [
    "\n",
    "st.write(\"# Сколько откликов получает задача\")"
   ]
  },
  {
   "cell_type": "code",
   "execution_count": 20,
   "metadata": {},
   "outputs": [],
   "source": [
    "st.write(\"## Admins\")"
   ]
  },
  {
   "cell_type": "code",
   "execution_count": 21,
   "metadata": {},
   "outputs": [
    {
     "ename": "NameError",
     "evalue": "name 'df_platform_admins' is not defined",
     "output_type": "error",
     "traceback": [
      "\u001b[0;31m---------------------------------------------------------------------------\u001b[0m",
      "\u001b[0;31mNameError\u001b[0m                                 Traceback (most recent call last)",
      "\u001b[1;32m/Users/arturfattahov/tasks_and_responses/main.ipynb Cell 19'\u001b[0m in \u001b[0;36m<module>\u001b[0;34m\u001b[0m\n\u001b[0;32m----> <a href='vscode-notebook-cell:/Users/arturfattahov/tasks_and_responses/main.ipynb#ch0000018?line=0'>1</a>\u001b[0m st\u001b[39m.\u001b[39mwrite(Counter(df_platform_admins[\u001b[39m'\u001b[39m\u001b[39mnumber_responses\u001b[39m\u001b[39m'\u001b[39m]))\n",
      "\u001b[0;31mNameError\u001b[0m: name 'df_platform_admins' is not defined"
     ]
    }
   ],
   "source": [
    "st.write(Counter(df_platform_admins['number_responses']))"
   ]
  },
  {
   "cell_type": "code",
   "execution_count": 22,
   "metadata": {},
   "outputs": [],
   "source": [
    "st.write(\"## iOS\")"
   ]
  },
  {
   "cell_type": "code",
   "execution_count": null,
   "metadata": {},
   "outputs": [],
   "source": [
    "st.write(Counter(df_platform_ios['number_responses']))"
   ]
  },
  {
   "cell_type": "code",
   "execution_count": 23,
   "metadata": {},
   "outputs": [],
   "source": [
    "st.write(\"## Android\")"
   ]
  },
  {
   "cell_type": "code",
   "execution_count": 24,
   "metadata": {},
   "outputs": [
    {
     "ename": "NameError",
     "evalue": "name 'df_platform_android' is not defined",
     "output_type": "error",
     "traceback": [
      "\u001b[0;31m---------------------------------------------------------------------------\u001b[0m",
      "\u001b[0;31mNameError\u001b[0m                                 Traceback (most recent call last)",
      "\u001b[1;32m/Users/arturfattahov/tasks_and_responses/main.ipynb Cell 23'\u001b[0m in \u001b[0;36m<module>\u001b[0;34m\u001b[0m\n\u001b[0;32m----> <a href='vscode-notebook-cell:/Users/arturfattahov/tasks_and_responses/main.ipynb#ch0000022?line=0'>1</a>\u001b[0m st\u001b[39m.\u001b[39mwrite(Counter(df_platform_android[\u001b[39m'\u001b[39m\u001b[39mnumber_responses\u001b[39m\u001b[39m'\u001b[39m]))\n",
      "\u001b[0;31mNameError\u001b[0m: name 'df_platform_android' is not defined"
     ]
    }
   ],
   "source": [
    "st.write(Counter(df_platform_android['number_responses']))"
   ]
  },
  {
   "cell_type": "code",
   "execution_count": 25,
   "metadata": {},
   "outputs": [],
   "source": [
    "st.write(\"Общее распределение откликов\")"
   ]
  },
  {
   "cell_type": "code",
   "execution_count": 26,
   "metadata": {},
   "outputs": [
    {
     "ename": "NameError",
     "evalue": "name 'df' is not defined",
     "output_type": "error",
     "traceback": [
      "\u001b[0;31m---------------------------------------------------------------------------\u001b[0m",
      "\u001b[0;31mNameError\u001b[0m                                 Traceback (most recent call last)",
      "\u001b[1;32m/Users/arturfattahov/tasks_and_responses/main.ipynb Cell 25'\u001b[0m in \u001b[0;36m<module>\u001b[0;34m\u001b[0m\n\u001b[0;32m----> <a href='vscode-notebook-cell:/Users/arturfattahov/tasks_and_responses/main.ipynb#ch0000024?line=0'>1</a>\u001b[0m st\u001b[39m.\u001b[39mwrite(Counter(df[\u001b[39m'\u001b[39m\u001b[39mnumber_responses\u001b[39m\u001b[39m'\u001b[39m]))\n",
      "\u001b[0;31mNameError\u001b[0m: name 'df' is not defined"
     ]
    }
   ],
   "source": [
    "st.write(Counter(df['number_responses']))"
   ]
  }
 ],
 "metadata": {
  "interpreter": {
   "hash": "aee8b7b246df8f9039afb4144a1f6fd8d2ca17a180786b69acc140d282b71a49"
  },
  "kernelspec": {
   "display_name": "Python 3.10.4 64-bit",
   "language": "python",
   "name": "python3"
  },
  "language_info": {
   "codemirror_mode": {
    "name": "ipython",
    "version": 3
   },
   "file_extension": ".py",
   "mimetype": "text/x-python",
   "name": "python",
   "nbconvert_exporter": "python",
   "pygments_lexer": "ipython3",
   "version": "3.10.4"
  },
  "orig_nbformat": 4
 },
 "nbformat": 4,
 "nbformat_minor": 2
}
